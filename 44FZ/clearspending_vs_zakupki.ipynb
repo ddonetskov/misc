{
 "cells": [
  {
   "cell_type": "markdown",
   "metadata": {},
   "source": [
    "# clearspending vs. zakupki"
   ]
  },
  {
   "cell_type": "markdown",
   "metadata": {},
   "source": [
    "* clearspending: http://openapi.clearspending.ru/restapi/v3/contracts/get/?regnum=1490908343515000003\n",
    "* zakupki.gov.ru: http://zakupki.gov.ru/epz/contract/contractCard/process-info.html?reestrNumber=1490908343515000003"
   ]
  },
  {
   "cell_type": "markdown",
   "metadata": {},
   "source": [
    "Подсчёт выплат по контракту на основе информации, полученной из clearspending"
   ]
  },
  {
   "cell_type": "code",
   "execution_count": 43,
   "metadata": {},
   "outputs": [
    {
     "name": "stdout",
     "output_type": "stream",
     "text": [
      "Платежное поручение №495164 от 2019-05-29 на сумму 9449.97\n",
      "Платежное поручение №495162 от 2019-05-29 на сумму 55641.71\n",
      "Платежное поручение №495163 от 2019-05-29 на сумму 60128.15\n",
      "Платежное поручение №495161 от 2019-05-29 на сумму 104871.86\n",
      "Платежное поручение №606870 от 2019-05-31 на сумму 394189.18\n",
      "Платежное поручение №606866 от 2019-05-31 на сумму 6909599.02\n",
      "Платежное поручение №606867 от 2019-05-31 на сумму 548852.65\n",
      "Платежное поручение №606868 от 2019-05-31 на сумму 262591.39\n",
      "Платежное поручение №606869 от 2019-05-31 на сумму 251614.16\n",
      "Total payment: 8596938.09\n"
     ]
    }
   ],
   "source": [
    "import requests\n",
    "import json\n",
    "\n",
    "contract_no = '1490908343515000003'\n",
    "r = requests.get(f'http://openapi.clearspending.ru/restapi/v3/contracts/get/?regnum={contract_no}')\n",
    "\n",
    "if r.status_code == 200:\n",
    "    j = json.loads(r.text)\n",
    "else:\n",
    "    raise ValueError(r.text)\n",
    "    \n",
    "total_paid = 0\n",
    "\n",
    "for exec in j['contracts']['data'][0]['contractProcedure']['executions']['execution']:\n",
    "    paidRUR = float(exec['paidRUR'])\n",
    "    print('{} №{} от {} на сумму {}'.format(\n",
    "                exec['payDoc']['documentName'],\n",
    "                exec['payDoc']['documentNum'],\n",
    "                exec['payDoc']['documentDate'],\n",
    "                paidRUR))\n",
    "    total_paid += paidRUR\n",
    "    \n",
    "print(f'Total payment: {total_paid}')"
   ]
  }
 ],
 "metadata": {
  "kernelspec": {
   "display_name": "Python 3",
   "language": "python",
   "name": "python3"
  },
  "language_info": {
   "codemirror_mode": {
    "name": "ipython",
    "version": 3
   },
   "file_extension": ".py",
   "mimetype": "text/x-python",
   "name": "python",
   "nbconvert_exporter": "python",
   "pygments_lexer": "ipython3",
   "version": "3.7.2"
  },
  "toc": {
   "base_numbering": 1,
   "nav_menu": {},
   "number_sections": true,
   "sideBar": true,
   "skip_h1_title": false,
   "title_cell": "Table of Contents",
   "title_sidebar": "Contents",
   "toc_cell": false,
   "toc_position": {},
   "toc_section_display": true,
   "toc_window_display": false
  },
  "varInspector": {
   "cols": {
    "lenName": 16,
    "lenType": 16,
    "lenVar": 40
   },
   "kernels_config": {
    "python": {
     "delete_cmd_postfix": "",
     "delete_cmd_prefix": "del ",
     "library": "var_list.py",
     "varRefreshCmd": "print(var_dic_list())"
    },
    "r": {
     "delete_cmd_postfix": ") ",
     "delete_cmd_prefix": "rm(",
     "library": "var_list.r",
     "varRefreshCmd": "cat(var_dic_list()) "
    }
   },
   "types_to_exclude": [
    "module",
    "function",
    "builtin_function_or_method",
    "instance",
    "_Feature"
   ],
   "window_display": false
  }
 },
 "nbformat": 4,
 "nbformat_minor": 2
}
